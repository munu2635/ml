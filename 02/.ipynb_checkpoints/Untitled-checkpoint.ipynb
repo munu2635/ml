{
 "cells": [
  {
   "cell_type": "code",
   "execution_count": null,
   "metadata": {},
   "outputs": [],
   "source": [
    "# 1. 서포트 백터 머신 회귀(sklearn.svm.SVR)를 kernal=\"linear\"(하이퍼파라미터 c를 바꿔가며)나 kernal=\"rbf\"(하이퍼파라미터 C와 gamma를 바꿔가며)\n",
    "# 등의 다양한 하이퍼파라미터 설정으로 시도해보세요. 지금은 이 하이퍼파라미터가 무엇을 의미하는지 너무 신경쓰지마세요. 최상의 SVR모델은 무엇인가요?"
   ]
  }
 ],
 "metadata": {
  "kernelspec": {
   "display_name": "Python 3",
   "language": "python",
   "name": "python3"
  },
  "language_info": {
   "codemirror_mode": {
    "name": "ipython",
    "version": 3
   },
   "file_extension": ".py",
   "mimetype": "text/x-python",
   "name": "python",
   "nbconvert_exporter": "python",
   "pygments_lexer": "ipython3",
   "version": "3.6.5"
  }
 },
 "nbformat": 4,
 "nbformat_minor": 2
}
