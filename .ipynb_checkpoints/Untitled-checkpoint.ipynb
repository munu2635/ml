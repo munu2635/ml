{
 "cells": [
  {
   "cell_type": "code",
   "execution_count": 1,
   "metadata": {},
   "outputs": [],
   "source": [
    "### 4 모델 훈련\n",
    "## 1. 선형회기\n",
    "# 훈련시키는 방법\n",
    "# --- 직접 계산할 수 있는 공식을 사용하여 훈련세트에 가장 잘 맞는 모델 파라미터를 해석적으로 구합니다.\n",
    "# (훈련세트에 대해 비용함수를 최소화 하는 모델 파라미터)\n",
    "# --- 경사 하강법(GD)라고 불리는 반복적인 최적화 방식을 사용하여 모델 파라미터를 조금씩 바꾸면서 비용 함수를 훈련세트에 대해 최소화 시킴\n",
    "# 앞의 방법과 동일한 파라미터로 수렴 ( 배치 경사 하강법, 미니배치 경사 하강법, 확률적 경사 하강법도 있음)\n"
   ]
  },
  {
   "cell_type": "code",
   "execution_count": 16,
   "metadata": {},
   "outputs": [],
   "source": [
    "# 정규방정식을 테스트하기 위해 선형처럼 보이는 데이터를 생성 \n",
    "import numpy as np\n",
    "\n",
    "X = 2 * np.random.rand(100, 1)\n",
    "y = 4 + 3 * X + np.random.randn(100, 1) # 세타0 + 세타1*X + 가우시안 노이즈 "
   ]
  },
  {
   "cell_type": "code",
   "execution_count": 17,
   "metadata": {},
   "outputs": [
    {
     "data": {
      "text/plain": [
       "Text(0,0.5,'y')"
      ]
     },
     "execution_count": 17,
     "metadata": {},
     "output_type": "execute_result"
    },
    {
     "data": {
      "image/png": "[encoded data removed]",
      "text/plain": [
       "<Figure size 432x288 with 1 Axes>"
      ]
     },
     "metadata": {},
     "output_type": "display_data"
    }
   ],
   "source": [
    "# 테스트하기 위해 선형처럼 보이는 데이터를 생성 하겠습니다.\n",
    "from matplotlib import pyplot as plt\n",
    "\n",
    "plt.plot(X, y, \"b.\")\n",
    "plt.xlabel(\"X1\")\n",
    "plt.ylabel(\"y\")"
   ]
  },
  {
   "cell_type": "code",
   "execution_count": 18,
   "metadata": {},
   "outputs": [],
   "source": [
    "# 정규방정식을 사용해 모자쓴 세타를 계산하면 \n",
    "# 넘 파이 선형대수 모듈에 있는 inv() 함수를 사용해 역행렬을 계산하고 dot() 메서드를 사용해 행렬곱셈을 하면 \n",
    "X_b = np.c_[np.ones((100, 1)), X] # 모든 샘플에 x0 = 1 을 추가\n",
    "theta_best = np.linalg.inv(X_b.T.dot(X_b)).dot(X_b.T).dot(y)"
   ]
  },
  {
   "cell_type": "code",
   "execution_count": 19,
   "metadata": {},
   "outputs": [
    {
     "data": {
      "text/plain": [
       "array([[3.89956084],\n",
       "       [3.02497097]])"
      ]
     },
     "execution_count": 19,
     "metadata": {},
     "output_type": "execute_result"
    }
   ],
   "source": [
    "# 데이터를 생성하기 위해 사용한 실제 함수는 y = 4 + 3(x1) + 가우시안 노이즈\n",
    "# 정규방정식으로 계산한 값은?\n",
    "theta_best"
   ]
  },
  {
   "cell_type": "code",
   "execution_count": 20,
   "metadata": {},
   "outputs": [
    {
     "data": {
      "text/plain": [
       "array([[3.89956084],\n",
       "       [9.94950277]])"
      ]
     },
     "execution_count": 20,
     "metadata": {},
     "output_type": "execute_result"
    }
   ],
   "source": [
    "# 4와 3을 기대했지만 노이즈 때문에 정확하게 구현하지 못했다. \n",
    "# 모자쓴 세타를 이용해 예측한다면 \n",
    "X_new = np.array([[0], [2]])\n",
    "X_new_b = np.c_[np.ones((2, 1)), X_new]\n",
    "y_predict = X_new_b.dot(theta_best)\n",
    "y_predict"
   ]
  },
  {
   "cell_type": "code",
   "execution_count": 23,
   "metadata": {},
   "outputs": [
    {
     "data": {
      "image/png": "[encoded data removed]",
      "text/plain": [
       "<Figure size 432x288 with 1 Axes>"
      ]
     },
     "metadata": {},
     "output_type": "display_data"
    }
   ],
   "source": [
    "plt.plot(X_new, y_predict, \"r-\")\n",
    "plt.plot(X, y, \"b.\")\n",
    "plt.axis([0, 2, 0, 15])\n",
    "plt.show()"
   ]
  },
  {
   "cell_type": "code",
   "execution_count": 27,
   "metadata": {},
   "outputs": [
    {
     "data": {
      "text/plain": [
       "(array([3.89956084]), array([[3.02497097]]))"
      ]
     },
     "execution_count": 27,
     "metadata": {},
     "output_type": "execute_result"
    }
   ],
   "source": [
    "# 같은 작업을 하는 사이킷런 코드\n",
    "\n",
    "from sklearn.linear_model import LinearRegression\n",
    "lin_reg = LinearRegression()\n",
    "lin_reg.fit(X, y)\n",
    "lin_reg.intercept_, lin_reg.coef_"
   ]
  },
  {
   "cell_type": "code",
   "execution_count": 25,
   "metadata": {},
   "outputs": [
    {
     "data": {
      "text/plain": [
       "array([[3.89956084],\n",
       "       [9.94950277]])"
      ]
     },
     "execution_count": 25,
     "metadata": {},
     "output_type": "execute_result"
    }
   ],
   "source": [
    "lin_reg.predict(X_new)"
   ]
  },
  {
   "cell_type": "code",
   "execution_count": 28,
   "metadata": {},
   "outputs": [],
   "source": [
    "## 경사 하강법 Gradient Descent\n",
    "# 다양한 문제에서 최적의 해법을 찾을 수있는 매우 일반적인 최적화 알고리즘 \n",
    "# 비용 함수를 최소화 하기 위해 반복해서 파라미터를 조정해 나가는 것이다\n",
    "# 세타를 임의의 값으로 시작해서 (무작위 초기화) 한번에 조금씩 비용 함수(ex MSE) 가 감소하는 방향으로 진행 \n",
    "# 알고 리즘이 최솟값에 수렴 할때 까지 점진 적으로 향상 시킨다. \n",
    "\n",
    "# 경사 하강법애서 중요한 파라미터는 스텝의 크기 (== 학습률 ) 하이퍼 파라미터로 결정 된다.\n",
    "# 학습률이 너무 적으면 알고리즘이 수렴하기 위해 반복을 많이해야하고\n",
    "# 학습률이 너무 크면 골짜기를 가로질러 반대편으로 건너뛰어 이전보다 더 높은 곳으로 갈수 있다\n",
    "\n",
    "# 무작위 초기화기 때문에 알고리즘이 왼쪽에서 시작하면 전역 최소값 보다 덜 좋은 지역 최솟값에 수렴한다. \n",
    "# 다행히 선형회귀를 위한 mse 비용 함수는 볼록함수 이다. 지역최소값이 없고 하나의 전역 최소값만 존재한다\n",
    "# 연솓된 함수이고 기울기가 갑자기 변하지 않는다."
   ]
  },
  {
   "cell_type": "code",
   "execution_count": 32,
   "metadata": {},
   "outputs": [
    {
     "data": {
      "text/plain": [
       "array([[3.89956084],\n",
       "       [3.02497097]])"
      ]
     },
     "execution_count": 32,
     "metadata": {},
     "output_type": "execute_result"
    }
   ],
   "source": [
    "# 배치 경사 하강법 \n",
    "# 경사 하강법을 구현하려면 각 모델 파라미터 세타에 대해 바용함수의 그레디언트를 계산해야한다.\n",
    "# 세타가 조금 변경될때 비용 함수가 얼마나 바뀌는지 계산해야한다. == ( 편도 함수 )\n",
    "\n",
    "eta = 0.1 # 학습률\n",
    "n_iterations = 1000\n",
    "m = 100\n",
    "\n",
    "theta = np.random.randn(2, 1) # 무작위 초기화\n",
    "\n",
    "for iteration in range(n_iterations):\n",
    "    gradients = 2/m * X_b.T.dot(X_b.dot(theta) - y)\n",
    "    theta = theta - eta * gradients\n",
    "# 정규 방정식으로 찾은 것과 동일하다.\n",
    "theta"
   ]
  },
  {
   "cell_type": "code",
   "execution_count": 33,
   "metadata": {},
   "outputs": [],
   "source": [
    "# 확률적 경사 하강법 (Stochastic Gradient Descent == sgd) \n",
    "# 배치 경사 하강법의 큰문제는 매 스텝에서 전체 훈련 세트를 사용해 그래디언트를 계산한다 이에따라 훈련세트가 커지면 매우 느려진다.\n",
    "# 확률적 경사하강법은 매 스텝에서 딱 한 개의 셈플을 무작위로 선택하고 그 하나의 샘플에 대한 그래디언트를 계산한다. \n",
    "# 매 반복에서 매우 적은 데이터만 처리하기 때문에 알고리즘이 확실히 훨씬 빠르다. 매우 큰 훈련세트도 훈련시킬 수 있다.\n",
    "# 반면에 확률적이기 때문에 배치경사보다 훨씽 불안정합니다.\n",
    "\n",
    "# 무작위성은 지역 최솟값에서 탈출시켜줘서 좋지만 알고리즘을 전역 최솟값에 다다르지 못하게 한다는 점에서는 좋지 않다 .\n",
    "# 이 딜레마를 해결하는 한가지 방법은 학습률을 점진적으로 감소시키는 것 \n",
    "# 매 반복에서 학습률을 결정하는 함수를 학습 스케줄이라고 한다. \n",
    "# 학습률이 너무 빨리 줄어들면 지역 최소값에 갇히거나 최솟값 까지 가는 중간에 멈출 가능성이 있고\n",
    "# 학습률이 너무 천천히 줄어들면 오랫동안 최솟값 주변을 맨돌거나 훈련을 너무 일찍 중지해서 지역 최솟값에 머무를 수 있다."
   ]
  },
  {
   "cell_type": "code",
   "execution_count": 35,
   "metadata": {},
   "outputs": [
    {
     "data": {
      "text/plain": [
       "array([[3.91800655],\n",
       "       [2.99783564]])"
      ]
     },
     "execution_count": 35,
     "metadata": {},
     "output_type": "execute_result"
    }
   ],
   "source": [
    "# 다음 코드는 간단한 학습 스케줄을 사용한 확룰적 경사 하강법의 구현이다. \n",
    "n_epochs = 50\n",
    "t0, t1 = 5, 50 # 학습 스케줄 하이퍼파라미터\n",
    "\n",
    "def learning_schedule(t):\n",
    "    return t0 / (t + t1)\n",
    "\n",
    "theta = np.random.randn(2, 1) # 무작위 초기화\n",
    "\n",
    "for epoch in range(n_epochs):\n",
    "    for i in range(m):\n",
    "        random_index = np.random.randint(m)s\n",
    "        xi = X_b[random_index:random_index + 1]\n",
    "        yi = y[random_index:random_index + 1]\n",
    "        gradients = 2 * xi.T.dot(xi.dot(theta) - yi)\n",
    "        eta = learning_schedule(epoch * m + i)\n",
    "        theta = theta - eta * gradients\n",
    "theta"
   ]
  },
  {
   "cell_type": "code",
   "execution_count": null,
   "metadata": {},
   "outputs": [],
   "source": [
    "# 사이킷런에서의 sgd 방식으로 선형회귀 \n"
   ]
  }
 ],
 "metadata": {
  "kernelspec": {
   "display_name": "Python 3",
   "language": "python",
   "name": "python3"
  },
  "language_info": {
   "codemirror_mode": {
    "name": "ipython",
    "version": 3
   },
   "file_extension": ".py",
   "mimetype": "text/x-python",
   "name": "python",
   "nbconvert_exporter": "python",
   "pygments_lexer": "ipython3",
   "version": "3.6.5"
  }
 },
 "nbformat": 4,
 "nbformat_minor": 2
}
